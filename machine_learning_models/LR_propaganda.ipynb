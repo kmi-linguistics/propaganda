{
  "nbformat": 4,
  "nbformat_minor": 0,
  "metadata": {
    "colab": {
      "name": "LR_propaganda.ipynb",
      "provenance": [],
      "collapsed_sections": []
    },
    "kernelspec": {
      "name": "python3",
      "display_name": "Python 3"
    },
    "accelerator": "GPU"
  },
  "cells": [
    {
      "cell_type": "markdown",
      "metadata": {
        "id": "Qu6kTMmswbLS"
      },
      "source": [
        "**Logistic Regression**\\\n",
        "**x = 2 (Text), y = 1 (Propaganda_devices)**\n"
      ]
    },
    {
      "cell_type": "code",
      "metadata": {
        "id": "2QvJ0NrRkXQf",
        "colab": {
          "base_uri": "https://localhost:8080/",
          "height": 224
        },
        "outputId": "b0256719-f814-4027-e7ab-44a25611f630"
      },
      "source": [
        "from google.colab import drive\n",
        "drive.mount('/content/drive/')\n",
        "import numpy as np\n",
        "import seaborn as sns\n",
        "import pandas as pd\n",
        "df = pd.read_csv(\"/content/drive/MyDrive/propaganda/sonal_shyam_icolsi_2021/merged_propaganda_data_noheader.csv\", header=None)\n",
        "df.head(5)\n"
      ],
      "execution_count": 1,
      "outputs": [
        {
          "output_type": "stream",
          "name": "stdout",
          "text": [
            "Mounted at /content/drive/\n"
          ]
        },
        {
          "output_type": "execute_result",
          "data": {
            "text/plain": [
              "                                                   0  1\n",
              "0  नये कृषि कानूनों को लेकर किसानों के आंदोलन का ...  0\n",
              "1  इस मामले का हल नहीं निकल पाने के कारण किसानों ...  0\n",
              "2  आज सुबह यहां टीकरी बॉर्डर पर एक किसान ने आत्मह...  0\n",
              "3  हरियाणा के जींच से आए किसान कर्मवीर ने फांसी ल...  0\n",
              "4              इससे किसानों का आक्रोश और बढ़ गया है.  0"
            ],
            "text/html": [
              "\n",
              "  <div id=\"df-db8145b8-eb2b-426b-bc6b-a5fb16cce77a\">\n",
              "    <div class=\"colab-df-container\">\n",
              "      <div>\n",
              "<style scoped>\n",
              "    .dataframe tbody tr th:only-of-type {\n",
              "        vertical-align: middle;\n",
              "    }\n",
              "\n",
              "    .dataframe tbody tr th {\n",
              "        vertical-align: top;\n",
              "    }\n",
              "\n",
              "    .dataframe thead th {\n",
              "        text-align: right;\n",
              "    }\n",
              "</style>\n",
              "<table border=\"1\" class=\"dataframe\">\n",
              "  <thead>\n",
              "    <tr style=\"text-align: right;\">\n",
              "      <th></th>\n",
              "      <th>0</th>\n",
              "      <th>1</th>\n",
              "    </tr>\n",
              "  </thead>\n",
              "  <tbody>\n",
              "    <tr>\n",
              "      <th>0</th>\n",
              "      <td>नये कृषि कानूनों को लेकर किसानों के आंदोलन का ...</td>\n",
              "      <td>0</td>\n",
              "    </tr>\n",
              "    <tr>\n",
              "      <th>1</th>\n",
              "      <td>इस मामले का हल नहीं निकल पाने के कारण किसानों ...</td>\n",
              "      <td>0</td>\n",
              "    </tr>\n",
              "    <tr>\n",
              "      <th>2</th>\n",
              "      <td>आज सुबह यहां टीकरी बॉर्डर पर एक किसान ने आत्मह...</td>\n",
              "      <td>0</td>\n",
              "    </tr>\n",
              "    <tr>\n",
              "      <th>3</th>\n",
              "      <td>हरियाणा के जींच से आए किसान कर्मवीर ने फांसी ल...</td>\n",
              "      <td>0</td>\n",
              "    </tr>\n",
              "    <tr>\n",
              "      <th>4</th>\n",
              "      <td>इससे किसानों का आक्रोश और बढ़ गया है.</td>\n",
              "      <td>0</td>\n",
              "    </tr>\n",
              "  </tbody>\n",
              "</table>\n",
              "</div>\n",
              "      <button class=\"colab-df-convert\" onclick=\"convertToInteractive('df-db8145b8-eb2b-426b-bc6b-a5fb16cce77a')\"\n",
              "              title=\"Convert this dataframe to an interactive table.\"\n",
              "              style=\"display:none;\">\n",
              "        \n",
              "  <svg xmlns=\"http://www.w3.org/2000/svg\" height=\"24px\"viewBox=\"0 0 24 24\"\n",
              "       width=\"24px\">\n",
              "    <path d=\"M0 0h24v24H0V0z\" fill=\"none\"/>\n",
              "    <path d=\"M18.56 5.44l.94 2.06.94-2.06 2.06-.94-2.06-.94-.94-2.06-.94 2.06-2.06.94zm-11 1L8.5 8.5l.94-2.06 2.06-.94-2.06-.94L8.5 2.5l-.94 2.06-2.06.94zm10 10l.94 2.06.94-2.06 2.06-.94-2.06-.94-.94-2.06-.94 2.06-2.06.94z\"/><path d=\"M17.41 7.96l-1.37-1.37c-.4-.4-.92-.59-1.43-.59-.52 0-1.04.2-1.43.59L10.3 9.45l-7.72 7.72c-.78.78-.78 2.05 0 2.83L4 21.41c.39.39.9.59 1.41.59.51 0 1.02-.2 1.41-.59l7.78-7.78 2.81-2.81c.8-.78.8-2.07 0-2.86zM5.41 20L4 18.59l7.72-7.72 1.47 1.35L5.41 20z\"/>\n",
              "  </svg>\n",
              "      </button>\n",
              "      \n",
              "  <style>\n",
              "    .colab-df-container {\n",
              "      display:flex;\n",
              "      flex-wrap:wrap;\n",
              "      gap: 12px;\n",
              "    }\n",
              "\n",
              "    .colab-df-convert {\n",
              "      background-color: #E8F0FE;\n",
              "      border: none;\n",
              "      border-radius: 50%;\n",
              "      cursor: pointer;\n",
              "      display: none;\n",
              "      fill: #1967D2;\n",
              "      height: 32px;\n",
              "      padding: 0 0 0 0;\n",
              "      width: 32px;\n",
              "    }\n",
              "\n",
              "    .colab-df-convert:hover {\n",
              "      background-color: #E2EBFA;\n",
              "      box-shadow: 0px 1px 2px rgba(60, 64, 67, 0.3), 0px 1px 3px 1px rgba(60, 64, 67, 0.15);\n",
              "      fill: #174EA6;\n",
              "    }\n",
              "\n",
              "    [theme=dark] .colab-df-convert {\n",
              "      background-color: #3B4455;\n",
              "      fill: #D2E3FC;\n",
              "    }\n",
              "\n",
              "    [theme=dark] .colab-df-convert:hover {\n",
              "      background-color: #434B5C;\n",
              "      box-shadow: 0px 1px 3px 1px rgba(0, 0, 0, 0.15);\n",
              "      filter: drop-shadow(0px 1px 2px rgba(0, 0, 0, 0.3));\n",
              "      fill: #FFFFFF;\n",
              "    }\n",
              "  </style>\n",
              "\n",
              "      <script>\n",
              "        const buttonEl =\n",
              "          document.querySelector('#df-db8145b8-eb2b-426b-bc6b-a5fb16cce77a button.colab-df-convert');\n",
              "        buttonEl.style.display =\n",
              "          google.colab.kernel.accessAllowed ? 'block' : 'none';\n",
              "\n",
              "        async function convertToInteractive(key) {\n",
              "          const element = document.querySelector('#df-db8145b8-eb2b-426b-bc6b-a5fb16cce77a');\n",
              "          const dataTable =\n",
              "            await google.colab.kernel.invokeFunction('convertToInteractive',\n",
              "                                                     [key], {});\n",
              "          if (!dataTable) return;\n",
              "\n",
              "          const docLinkHtml = 'Like what you see? Visit the ' +\n",
              "            '<a target=\"_blank\" href=https://colab.research.google.com/notebooks/data_table.ipynb>data table notebook</a>'\n",
              "            + ' to learn more about interactive tables.';\n",
              "          element.innerHTML = '';\n",
              "          dataTable['output_type'] = 'display_data';\n",
              "          await google.colab.output.renderOutput(dataTable, element);\n",
              "          const docLink = document.createElement('div');\n",
              "          docLink.innerHTML = docLinkHtml;\n",
              "          element.appendChild(docLink);\n",
              "        }\n",
              "      </script>\n",
              "    </div>\n",
              "  </div>\n",
              "  "
            ]
          },
          "metadata": {},
          "execution_count": 1
        }
      ]
    },
    {
      "cell_type": "code",
      "metadata": {
        "id": "FRNiCd3gM30x",
        "colab": {
          "base_uri": "https://localhost:8080/",
          "height": 297
        },
        "outputId": "545a208c-9c3f-46a6-8378-49d790b849f6"
      },
      "source": [
        "sns.countplot(y=1, data=df)"
      ],
      "execution_count": 2,
      "outputs": [
        {
          "output_type": "execute_result",
          "data": {
            "text/plain": [
              "<matplotlib.axes._subplots.AxesSubplot at 0x7f944b1cb690>"
            ]
          },
          "metadata": {},
          "execution_count": 2
        },
        {
          "output_type": "display_data",
          "data": {
            "text/plain": [
              "<Figure size 432x288 with 1 Axes>"
            ],
            "image/png": "[encoded data removed]"
          },
          "metadata": {
            "needs_background": "light"
          }
        }
      ]
    },
    {
      "cell_type": "code",
      "metadata": {
        "id": "GZw2QMhODKKh"
      },
      "source": [
        "X = df[0]\n",
        "y = df[1]"
      ],
      "execution_count": 3,
      "outputs": []
    },
    {
      "cell_type": "code",
      "metadata": {
        "id": "jrJ5L73yDPoR",
        "colab": {
          "base_uri": "https://localhost:8080/"
        },
        "outputId": "7be35fd2-43da-42a9-9333-409ff1cfccf4"
      },
      "source": [
        "X"
      ],
      "execution_count": 4,
      "outputs": [
        {
          "output_type": "execute_result",
          "data": {
            "text/plain": [
              "0        नये कृषि कानूनों को लेकर किसानों के आंदोलन का ...\n",
              "1        इस मामले का हल नहीं निकल पाने के कारण किसानों ...\n",
              "2        आज सुबह यहां टीकरी बॉर्डर पर एक किसान ने आत्मह...\n",
              "3        हरियाणा के जींच से आए किसान कर्मवीर ने फांसी ल...\n",
              "4                    इससे किसानों का आक्रोश और बढ़ गया है.\n",
              "                               ...                        \n",
              "22430    उनकी पार्टी एक जिम्मेदार विपक्ष के तौर पर काम ...\n",
              "22431                      शिवसेना सीएम पद के लिए अड़ी रही\n",
              "22432    कांग्रेस को एक जिम्मेदार विपक्ष होने का जनादेश...\n",
              "22433    सरकार गठन का दावा करते हैं तो उन्हें सरकार बना...\n",
              "22434    राउत ने कहा कि राज्य में राष्ट्रपति शासन लागू ...\n",
              "Name: 0, Length: 22435, dtype: object"
            ]
          },
          "metadata": {},
          "execution_count": 4
        }
      ]
    },
    {
      "cell_type": "code",
      "metadata": {
        "id": "NJxtWa4SDUuB",
        "colab": {
          "base_uri": "https://localhost:8080/"
        },
        "outputId": "8bbad6e0-e4e4-406a-8ee5-21fc23c2b698"
      },
      "source": [
        "y"
      ],
      "execution_count": 5,
      "outputs": [
        {
          "output_type": "execute_result",
          "data": {
            "text/plain": [
              "0        0\n",
              "1        0\n",
              "2        0\n",
              "3        0\n",
              "4        0\n",
              "        ..\n",
              "22430    1\n",
              "22431    1\n",
              "22432    1\n",
              "22433    1\n",
              "22434    1\n",
              "Name: 1, Length: 22435, dtype: int64"
            ]
          },
          "metadata": {},
          "execution_count": 5
        }
      ]
    },
    {
      "cell_type": "markdown",
      "metadata": {
        "id": "OCqoz-BMCjI2"
      },
      "source": [
        "**Split_train & test_data**"
      ]
    },
    {
      "cell_type": "code",
      "metadata": {
        "id": "95_YtpRJunJA"
      },
      "source": [
        "from sklearn.model_selection import train_test_split"
      ],
      "execution_count": 6,
      "outputs": []
    },
    {
      "cell_type": "markdown",
      "metadata": {
        "id": "t8C1vZrsxViM"
      },
      "source": [
        "**Convert_vector**"
      ]
    },
    {
      "cell_type": "code",
      "metadata": {
        "id": "CLWQrlDKDOfs",
        "colab": {
          "base_uri": "https://localhost:8080/"
        },
        "outputId": "ca6e253b-e566-4ef7-d8fe-6ccd27c7e477"
      },
      "source": [
        "from sklearn.feature_extraction.text import CountVectorizer\n",
        "count_vect = CountVectorizer()\n",
        "X_train_counts = count_vect.fit_transform(X)\n",
        "X_train_counts.shape"
      ],
      "execution_count": 7,
      "outputs": [
        {
          "output_type": "execute_result",
          "data": {
            "text/plain": [
              "(22435, 4524)"
            ]
          },
          "metadata": {},
          "execution_count": 7
        }
      ]
    },
    {
      "cell_type": "code",
      "metadata": {
        "id": "GMUnFULFu3pv"
      },
      "source": [
        "X_train, X_test, y_train, y_test = train_test_split(X_train_counts.toarray(),y,test_size=0.2)"
      ],
      "execution_count": 8,
      "outputs": []
    },
    {
      "cell_type": "code",
      "metadata": {
        "id": "iqOa26s9zqmB",
        "colab": {
          "base_uri": "https://localhost:8080/"
        },
        "outputId": "0b77db17-3f34-4970-a633-f6339faf7a74"
      },
      "source": [
        "len(X_train)"
      ],
      "execution_count": 9,
      "outputs": [
        {
          "output_type": "execute_result",
          "data": {
            "text/plain": [
              "17948"
            ]
          },
          "metadata": {},
          "execution_count": 9
        }
      ]
    },
    {
      "cell_type": "code",
      "metadata": {
        "id": "0akmMmQZz4hY",
        "colab": {
          "base_uri": "https://localhost:8080/"
        },
        "outputId": "cb9e085c-6da4-4f81-de4e-077f818e3691"
      },
      "source": [
        "len(X_test)"
      ],
      "execution_count": 10,
      "outputs": [
        {
          "output_type": "execute_result",
          "data": {
            "text/plain": [
              "4487"
            ]
          },
          "metadata": {},
          "execution_count": 10
        }
      ]
    },
    {
      "cell_type": "code",
      "metadata": {
        "id": "m7MIlDT10NYT",
        "colab": {
          "base_uri": "https://localhost:8080/"
        },
        "outputId": "4d8557d5-19d5-40bf-f375-60bd5617cfd3"
      },
      "source": [
        "#X_train[1]\n",
        "print(count_vect.get_feature_names())"
      ],
      "execution_count": 11,
      "outputs": [
        {
          "output_type": "stream",
          "name": "stdout",
          "text": [
            "['00', '000', '0000', '00000', '0002', '002', '005', '01', '012', '027', '028', '03', '04', '05', '055', '05pm', '06', '07', '08', '085', '087', '089', '09', '10', '100', '1000', '100ट', '100म', '100व', '101', '102', '1025', '102व', '1031', '104', '1045', '1047', '105', '107', '10700', '1071', '108', '1085', '10अप', '10कर', '10द', '10प', '10बज', '10म', '10ल', '10व', '10स', '10हफ', '11', '110', '1100', '110093', '1104', '111', '112', '1121', '113', '114', '116', '117', '119', '119व', '11द', '11मई', '11व', '12', '120', '1200', '1200ल', '121', '122', '1242', '1248', '125', '126', '128', '129', '1297', '129व', '12pm', '12अगस', '12घ', '12द', '12मई', '12ल', '12व', '13', '130', '1300', '1309', '1311', '134', '138', '139', '13मई', '14', '1400', '141', '144', '145', '1467', '1476', '1476क', '148', '1496', '14अगस', '14क', '14द', '14व', '15', '150', '1500', '1500मर', '150व', '151', '152', '153', '155', '156', '15म', '15मई', '15०', '16', '1600', '16000', '1630घ', '164', '16ज', '16मई', '16व', '17', '170', '1700', '1735', '1742कर', '1768', '177', '1780', '17मई', '17व', '18', '180', '1800', '18000', '18000कर', '180ऑट', '1830', '185', '1850कर', '1857', '185ब', '186', '1872', '1889', '189', '1893', '18अप', '18प', '18मई', '18व', '19', '1908', '191', '1913', '1917', '1918', '1920', '1924', '1925', '1926', '1930', '1934', '1935', '1936', '1937', '1938', '1941', '1942', '1947', '1948', '1949', '1950', '1951', '1953', '1954', '195422', '1955', '1956', '1960', '1962', '1963', '1964', '1965', '1966', '1967', '1968', '1970', '1971', '1972', '1974', '1974और', '1975', '1976', '1977', '1978', '1979', '198', '1980', '1982', '1983', '1984', '1985', '1987', '1988', '1989', '1990', '1991', '1992', '1993', '1994', '1995', '1996', '1997', '1998', '1999', '19व', '1ms', '1कर', '1ज', '1ल', '1वर', '20', '200', '2000', '2000व', '2001', '2002', '2003', '2004', '2005', '2006', '2007', '2008', '2009', '200द', '201', '2010', '2011', '2012', '2013', '2014', '2015', '2016', '2017', '2018', '2019', '202', '2020', '20202', '2020इस', '2020यह', '2021', '2022', '2023', '2024', '203', '204', '2047', '205', '2050', '206', '2086', '20ल', '20वर', '21', '21000', '212', '214', '2150', '216', '218', '219', '21ज', '21य', '21व', '22', '220', '2200', '222', '223', '224', '225', '226', '227', '229', '22अप', '22जनवर', '22व', '22वर', '23', '233', '237', '23व', '24', '2400', '24000', '242', '246', '247', '248', '24अप', '24घ', '25', '250', '2500', '25000', '2508', '251', '254', '25अप', '25कर', '25मई', '25व', '26', '2600', '262', '2663805', '26787', '268', '27', '2744', '275', '2791', '2791341', '27व', '28', '280', '281', '283', '285', '2850', '287', '288', '28अप', '29', '290', '295ब', '296', '297', '299', '29वर', '2घ', '2ज', '2बज', '2म', '2मह', '2स', '30', '300', '3000', '30000', '303', '304', '30783', '308', '309', '30प', '31', '310', '311', '312', '313', '315', '318', '31व', '32', '320', '321', '322', '325', '325क', '33', '3332', '335', '338', '33981', '34', '3400', '342', '345', '349', '35', '350', '3500', '350व', '351', '353', '354', '357', '35ए', '36', '363', '365', '3676', '368', '36कर', '37', '370', '371', '376', '38', '389', '38क', '39', '39000', '3925', '394', '39600मजद', '3965', '397', '399', '3द', '3बज', '3म', '3मई', '3मह', '3स', '40', '400', '4000', '40000', '400व', '403', '40pm', '41', '415', '41886', '42', '4251', '427', '428', '43', '430', '434', '4393', '44', '45', '450', '45pm', '45द', '46', '463', '464', '467', '469', '47', '479', '48', '4800', '485', '49', '49000', '4962', '49व', '4g', '4मई', '50', '500', '5000', '50000', '5001', '506', '50द', '50ल', '51', '513', '5150', '52', '5250', '5259', '529', '52pm', '53', '531', '533', '54', '5400', '54000', '542', '543', '544', '545', '54व', '55', '550', '5500', '55000', '550व', '5532', '56', '57', '571', '578', '58', '583', '585', '586', '59', '5क', '5ज', '5प', '5बज', '5ल', '5स', '5हज', '5हफ', '60', '600', '6000', '600कर', '60229', '60266', '61', '612', '62', '6200कर', '624', '62768', '629', '62न', '63', '63न', '64', '640', '642000', '646', '65', '6525', '656', '66', '660', '66000', '668', '67', '677', '68', '68000कर', '6850', '69', '690', '6923', '6923क', '696', '6म', '6मई', '6र', '6स', '70', '700', '7000', '7000कर', '70प', '71', '71135', '714', '715', '719', '71व', '72', '7200', '72प', '72व', '73', '738', '74', '747', '748', '75', '750', '754', '75प', '75व', '76', '77', '78', '789', '79', '791', '796', '797', '7द', '7बज', '7मई', '7व', '80', '800', '8000', '803', '805', '80कर', '81', '82', '825', '826', '83', '8312', '833', '84', '85', '857', '86', '8601805555', '865', '868', '87', '88', '880', '8800007722', '885', '8850', '89', '8929', '8घ', '8मई', '90', '900', '901', '90द', '90प', '91', '9100', '911', '912', '917', '91ल', '91व', '92', '92000', '924', '93', '934', '94', '942', '95', '950', '96', '960', '961', '97', '970', '975', '98', '983', '99', '9अगस', '9व', 'aadmi', 'aam', 'aap', 'acceptable', 'acp', 'act', 'adgp', 'adhikar', 'administrative', 'agricultural', 'aifrte', 'aiims', 'airtel', 'aisa', 'ak', 'all', 'amar', 'amarujala', 'and', 'ani', 'anselms', 'apmc', 'app', 'apy', 'army', 'aryan', 'asp', 'assembly', 'axle', 'ayurved', 'badal', 'baltistan', 'bams', 'bandh', 'bc', 'bharat', 'bidat', 'bill', 'bills', 'bjp', 'bku', 'breaking', 'bsf', 'business', 'caa', 'cables', 'cadbury', 'caliphate', 'card', 'cases', 'certificate', 'change', 'channels', 'church', 'cisf', 'cji', 'cm', 'cmoस', 'cnn', 'coca', 'cola', 'com', 'commission', 'committees', 'commodities', 'concept', 'cong', 'congress', 'cost', 'council', 'coup', 'court', 'covid', 'crpf', 'date', 'day', 'dc', 'dcp', 'delhi', 'delhicm', 'delhigovt', 'development', 'dgmo', 'dig', 'digital', 'dj', 'djआ', 'dm', 'dna', 'dnd', 'download', 'downloads', 'dsw', 'dy', 'dyfi', 'eca', 'economical', 'edistrict', 'edudel', 'election', 'essential', 'exclusive', 'exercise', 'exports', 'fair', 'farm', 'farmer', 'farmers', 'fci', 'fir', 'fmcg', 'fools', 'for', 'free', 'from', 'gb', 'gdp', 'get', 'gilgit', 'gmail', 'godown', 'good', 'gov', 'gs', 'gst', 'gujarat', 'halala', 'harsimrat', 'helpkotastudents', 'high', 'hindi', 'hindu', 'hrd', 'http', 'https', 'hypocrisy', 'icmr', 'icrier', 'icus', 'ilo', 'imudra', 'in', 'including', 'india', 'indian', 'inter', 'invasion', 'ips', 'irctc', 'isis', 'itbp', 'jan', 'jds', 'jdu', 'jem', 'jharkhand', 'justice', 'k4', 'k5', 'kangujam', 'kansal', 'karnataka', 'kaur', 'king', 'kovind', 'law', 'leader', 'league', 'leaked', 'led', 'let', 'licypriya', 'lion', 'live', 'lockdown', 'logo', 'made', 'make', 'mandeep', 'mani', 'manpower', 'market', 'martial', 'mba', 'mbps', 'mdlr', 'mild', 'million', 'mission', 'mla', 'mlas', 'modalities', 'moderate', 'modi', 'modiplanningfarmergenocide', 'monitor', 'moto', 'msp', 'muslim', 'mutually', 'nam', 'nath', 'nawaz', 'ncr', 'nda', 'nestle', 'news', 'ngo', 'ngos', 'nh', 'nh24', 'nh9', 'nic', 'nikah', 'nit', 'no', 'nov', 'npa', 'npr', 'nrc', 'nsa', 'obc', 'of', 'office', 'oic', 'online', 'opposition', 'org', 'osr', 'ott', 'ottoman', 'out', 'pakistan', 'pappu', 'party', 'patanjali', 'patna', 'per', 'pfrda', 'pib', 'pm', 'pml', 'point', 'pok', 'police', 'polygamy', 'portal', 'ppe', 'ppm', 'president', 'pressenza', 'produce', 'profit', 'propaganda', 'protest', 'protests', 'proud', 'pubg', 'punia', 'qtoken', 'quality', 'raf', 'rajya', 'rally', 'ram', 'reepak', 'repeal', 'report', 'reporters', 'republic', 'resolution', 'restrictions', 'result', 'rishabh', 'risk', 'rjd', 'rss', 'rstv', 'saarc', 'sabha', 'sc', 'scam', 'school', 'sdm', 'security', 'sendusbackhome', 'senge', 'separation', 'sering', 'sharma', 'she', 'sheet', 'shift', 'sho', 'singh', 'sll', 'sr', 'st', 'state', 'statement', 'strike', 'structure', 'suggestions', 'sukhbir', 'summit', 'supreme', 'svs', 'symbol', 'system', 'talaq', 'tejashwi', 'tests', 'text_share', 'the', 'theory', 'tm_source', 'to', 'tractor', 'trade', 'transparency', 'transportation', 'tube', 'turning', 'tv', 'uapa', 'uidai', 'ujala', 'un', 'union', 'up', 'upa', 'updates', 'us', 'useful', 'usp', 'vibrant', 'vs', 'who', 'wifi', 'wild', 'will', 'www', 'yadav', 'yadavtejashwi', 'you', 'youtube', 'âट', 'âनन', 'âप', 'âब', 'âमर', 'âल', 'âस', 'âसर', 'âसल', 'ïट', 'ñक', 'अक', 'अकथ', 'अकबर', 'अकर', 'अकल', 'अकवर', 'अकस', 'अकसर', 'अख', 'अखब', 'अखर', 'अखल', 'अग', 'अगमक', 'अगर', 'अगरतल', 'अगल', 'अगस', 'अगड़', 'अघ', 'अच', 'अचन', 'अचम', 'अचरज', 'अचल', 'अछ', 'अछन', 'अज', 'अजग', 'अजन', 'अजनव', 'अजब', 'अजम', 'अजमल', 'अजय', 'अजयर', 'अजव', 'अजहर', 'अट', 'अटक', 'अटककर', 'अटकल', 'अटकलब', 'अटपट', 'अटल', 'अटलज', 'अटलत', 'अठ', 'अड', 'अढ', 'अत', 'अतर', 'अथ', 'अथक', 'अथव', 'अद', 'अदन', 'अदब', 'अदभ', 'अदम', 'अदल', 'अध', 'अधकचर', 'अधपक', 'अधर', 'अन', 'अनकह', 'अनग', 'अनच', 'अनज', 'अनद', 'अनन', 'अनपढ', 'अनपढ़', 'अनम', 'अनमन', 'अनर', 'अनल', 'अनव', 'अनवर', 'अनवरत', 'अनशन', 'अनशनप', 'अनस', 'अनह', 'अऩ', 'अप', 'अपड', 'अपन', 'अपनत', 'अपम', 'अपर', 'अपल', 'अपव', 'अपशब', 'अपह', 'अपहरण', 'अपढ़', 'अफ', 'अफग', 'अफज', 'अफजल', 'अफर', 'अफव', 'अफस', 'अफसर', 'अफसरश', 'अब', 'अबक', 'अबत', 'अबतक', 'अभ', 'अभद', 'अभय', 'अम', 'अमन', 'अमनद', 'अमर', 'अमरज', 'अमरन', 'अमल', 'अय', 'अर', 'अरण', 'अरद', 'अरनब', 'अरब', 'अरबपत', 'अरम', 'अरर', 'अरव', 'अरवल', 'अरस', 'अरहर', 'अल', 'अलक', 'अलग', 'अलजज', 'अलफ', 'अलम', 'अलर', 'अलव', 'अलवर', 'अव', 'अवक', 'अवगत', 'अवच', 'अवज', 'अवत', 'अवतर', 'अवध', 'अवन', 'अवम', 'अवयव', 'अवर', 'अवल', 'अवश', 'अवस', 'अवसर', 'अवसरव', 'अवह', 'अश', 'अशव', 'अष', 'अस', 'असत', 'असद', 'असप', 'असफल', 'असफलत', 'असब', 'असभ', 'असम', 'असमय', 'असमर', 'असर', 'असरक', 'असरद', 'असल', 'असलम', 'असह', 'असहज', 'असहजत', 'असहन', 'असहमत', 'असहय', 'अह', 'अहम', 'अहमद', 'अहमदनगर', 'अहल', 'अहस', 'अख़', 'अख़ब', 'अख़ल', 'अड़', 'अड़चन', 'अफ़र', 'अफ़स', 'अफ़ज़ल', 'आआप', 'आआश', 'आइ', 'आइआईट', 'आइए', 'आइएनएस', 'आइएमस', 'आइएसआइ', 'आइकन', 'आइज', 'आइटम', 'आइड', 'आइन', 'आइय', 'आइल', 'आइस', 'आइसल', 'आई', 'आईआई', 'आईआईएम', 'आईआईट', 'आईआईव', 'आईआरस', 'आईए', 'आईएएनएस', 'आईएएस', 'आईएनएक', 'आईएनएच', 'आईएफआर', 'आईएमस', 'आईएल', 'आईएस', 'आईएसआई', 'आईएसआईएस', 'आईएसएफ', 'आईएसएस', 'आईओस', 'आईक', 'आईज', 'आईट', 'आईड', 'आईडब', 'आईन', 'आईप', 'आईफ', 'आईब', 'आईय', 'आईश', 'आईस', 'आउ', 'आउट', 'आउटस', 'आऊट', 'आए', 'आएग', 'आऐ', 'आओ', 'आक', 'आकर', 'आकलन', 'आकस', 'आकड़', 'आख', 'आखर', 'आग', 'आगज', 'आगजन', 'आगमन', 'आगर', 'आघ', 'आच', 'आचरण', 'आज', 'आजकल', 'आजतक', 'आजम', 'आजमगढ', 'आजमगढ़', 'आजय', 'आजव', 'आट', 'आठ', 'आठव', 'आड', 'आडबल', 'आडव', 'आढ', 'आण', 'आत', 'आतत', 'आतप', 'आद', 'आदत', 'आदतन', 'आदम', 'आदर', 'आदरण', 'आदरप', 'आध', 'आन', 'आनन', 'आनल', 'आप', 'आपक', 'आपत', 'आपद', 'आपन', 'आपब', 'आपम', 'आपर', 'आपल', 'आपस', 'आफ', 'आफत', 'आफस', 'आब', 'आबक', 'आभ', 'आम', 'आमजन', 'आमत', 'आमद', 'आमदन', 'आमन', 'आय', 'आयकर', 'आयत', 'आयदर', 'आयन', 'आयर', 'आयरल', 'आर', 'आर4', 'आरएएफ', 'आरएन', 'आरएफ', 'आरएमएल', 'आरएमएस', 'आरएमप', 'आरएलप', 'आरएस', 'आरएसएस', 'आरएसप', 'आरओ', 'आरक', 'आरज', 'आरट', 'आरड', 'आरत', 'आरप', 'आरब', 'आरम', 'आरव', 'आरस', 'आल', 'आलम', 'आव', 'आवक', 'आवज', 'आवत', 'आवन', 'आवरण', 'आवश', 'आश', 'आशय', 'आस', 'आसटकर', 'आसन', 'आसप', 'आसम', 'आसर', 'आह', 'आहट', 'आहत', 'आख़', 'आज़', 'आज़म', 'आड़', 'आढ़त', 'आफ़त', 'इए', 'इएग', 'इक', 'इकट', 'इकन', 'इकब', 'इकर', 'इकल', 'इग', 'इगर', 'इच', 'इज', 'इजर', 'इट', 'इटन', 'इटर', 'इटल', 'इटस', 'इड', 'इडर', 'इडल', 'इण', 'इत', 'इतन', 'इतर', 'इथ', 'इधर', 'इन', 'इनक', 'इनकम', 'इनत', 'इनप', 'इनपर', 'इनफ', 'इनम', 'इनर', 'इनल', 'इनस', 'इनह', 'इप', 'इपल', 'इफ', 'इफल', 'इब', 'इबर', 'इम', 'इमर', 'इमरज', 'इमरत', 'इमल', 'इय', 'इयत', 'इयर', 'इर', 'इरश', 'इल', 'इव', 'इवन', 'इवर', 'इश', 'इशरत', 'इष', 'इस', 'इसक', 'इसन', 'इसपर', 'इसब', 'इसम', 'इसर', 'इसल', 'इसस', 'इज़', 'ईअड', 'ईए', 'ईएम', 'ईएल', 'ईएसआर', 'ईएसएस', 'ईओ', 'ईओवर', 'ईक', 'ईकम', 'ईकर', 'ईग', 'ईघर', 'ईच', 'ईज', 'ईजर', 'ईट', 'ईटऑफ', 'ईड', 'ईडल', 'ईद', 'ईन', 'ईप', 'ईपरट', 'ईफ', 'ईभ', 'ईम', 'ईय', 'ईर', 'ईल', 'ईव', 'ईवन', 'ईवर', 'ईवह', 'ईश', 'ईस', 'ईसर', 'ईज़र', 'ई०उम', 'उ0प', 'उक', 'उकड', 'उकथ', 'उकस', 'उख', 'उखड', 'उग', 'उगत', 'उगर', 'उगलन', 'उघड', 'उच', 'उचक', 'उचकत', 'उछ', 'उछल', 'उछलत', 'उज', 'उजड', 'उजल', 'उट', 'उटर', 'उठ', 'उठकर', 'उठत', 'उठन', 'उड', 'उडर', 'उत', 'उतन', 'उतपद', 'उतर', 'उतरकर', 'उतरत', 'उतरन', 'उतरह', 'उथ', 'उथल', 'उद', 'उदय', 'उदयनर', 'उदयप', 'उदयव', 'उदह', 'उध', 'उधम', 'उधर', 'उन', 'उनक', 'उनपर', 'उनम', 'उनल', 'उनश', 'उनस', 'उऩक', 'उप', 'उपक', 'उपकर', 'उपकरण', 'उपग', 'उपच', 'उपज', 'उपजक', 'उपजखर', 'उपजत', 'उपद', 'उपन', 'उपनगर', 'उपप', 'उपब', 'उपभ', 'उपम', 'उपय', 'उपर', 'उपल', 'उपलक', 'उपलध', 'उपलब', 'उपव', 'उपवन', 'उपश', 'उपस', 'उपसभ', 'उपसभपत', 'उपह', 'उफ', 'उब', 'उबर', 'उबरकर', 'उबल', 'उभ', 'उभर', 'उभरकर', 'उभरत', 'उभरन', 'उम', 'उमड', 'उमर', 'उमरह', 'उमड़', 'उमड़न', 'उर', 'उल', 'उलझ', 'उलझकर', 'उलझन', 'उलट', 'उलटन', 'उलटफ', 'उलटब', 'उव', 'उष', 'उस', 'उसक', 'उसन', 'उसप', 'उसपर', 'उसम', 'उसर', 'उसस', 'उड़', 'उड़त', 'उड़द', 'उड़न', 'उफ़', 'ऊड', 'ऊत', 'ऊतर', 'ऊध', 'ऊन', 'ऊपन', 'ऊपर', 'ऊफ', 'ऊबड़', 'ऊर', 'ऊलग', 'ऊस', 'ऋगव', 'ऋण', 'ऋत', 'ऋतभर', 'ऋषभ', 'एअर', 'एआइ', 'एआइएमआइएम', 'एआइस', 'एआईक', 'एआईप', 'एआईस', 'एआर', 'एआरव', 'एई', 'एए', 'एएनआइ', 'एएनआई', 'एएनएम', 'एएफप', 'एएमओय', 'एएलएल', 'एएस', 'एएसप', 'एक', 'एकज', 'एकड', 'एकत', 'एकतरफ', 'एकद', 'एकदम', 'एकध', 'एकन', 'एकपक', 'एकब', 'एकम', 'एकमजब', 'एकमत', 'एकर', 'एकल', 'एकलव', 'एकस', 'एकसम', 'एकड़', 'एग', 'एच', 'एच1ब', 'एचएएल', 'एचओ', 'एचट', 'एचड', 'एचप', 'एचय', 'एचस', 'एज', 'एट', 'एटक', 'एटल', 'एड', 'एडगर', 'एडम', 'एडव', 'एडह', 'एणएसप', 'एत', 'एतर', 'एतह', 'एथल', 'एद', 'एन', 'एनआईए', 'एनआईएफट', 'एनआईट', 'एनआरस', 'एनए', 'एनएच', 'एनएचआरस', 'एनएन', 'एनएप', 'एनएमएमएल', 'एनएसज', 'एनएसड', 'एनएसप', 'एनएसय', 'एनएसस', 'एनक', 'एनज', 'एनट', 'एनड', 'एनत', 'एनप', 'एनय', 'एनर', 'एनव', 'एनस', 'एप', 'एफ', 'एफआइआर', 'एफआई', 'एफआईआर', 'एफएओ', 'एफएक', 'एफएट', 'एफएमस', 'एफओ', 'एफट', 'एफड', 'एफप', 'एफब', 'एफस', 'एब', 'एम', 'एमआर', 'एमआरएस', 'एमआरस', 'एमए', 'एमएनस', 'एमएम', 'एमएल', 'एमएलए', 'एमएलस', 'एमएस', 'एमएसएमई', 'एमएसप', 'एमएसस', 'एमओ', 'एमओय', 'एमक', 'एमज', 'एमट', 'एमड', 'एमद', 'एमप', 'एमब', 'एमय', 'एमव', 'एमस', 'एयर', 'एयरक', 'एयरप', 'एयरफ', 'एयरम', 'एयरल', 'एर', 'एरड', 'एल', 'एलआईय', 'एलआईस', 'एलइड', 'एलईड', 'एलए', 'एलएफ', 'एलएमज', 'एलएमट', 'एलएस', 'एलओस', 'एलज', 'एलट', 'एलड', 'एलन', 'एलप', 'एलर', 'एलव', 'एलस', 'एव', 'एवज', 'एवम', 'एवर', 'एश', 'एशन', 'एस', 'एसआइट', 'एसआईट', 'एसआर', 'एसआर30', 'एसए', 'एसएचओ', 'एसएन', 'एसएनएल', 'एसएफ', 'एसएमएचएस', 'एसएमएस', 'एसएमट', 'एसएल', 'एसएलस', 'एसएस', 'एसएसआरआई', 'एसएसप', 'एसओप', 'एसक', 'एसज', 'एसट', 'एसड', 'एसप', 'एसब', 'एसय', 'एसव', 'एसस', 'एहत', 'एहस', 'एफ़आईआर', 'ऐक', 'ऐड', 'ऐत', 'ऐतर', 'ऐन', 'ऐप', 'ऐपव', 'ऐयर', 'ऐर', 'ऐल', 'ऐवज', 'ऐश', 'ऐस', 'ऑइल', 'ऑक', 'ऑट', 'ऑड', 'ऑन', 'ऑनल', 'ऑपर', 'ऑफ', 'ऑफल', 'ऑब', 'ऑर', 'ऑल', 'ऑलआउट', 'ऑस', 'ऑफ़', 'ओआई', 'ओआईस', 'ओक', 'ओकल', 'ओखल', 'ओछ', 'ओजप', 'ओझल', 'ओट', 'ओड', 'ओढ', 'ओढन', 'ओत', 'ओन', 'ओप', 'ओपन', 'ओब', 'ओम', 'ओमक', 'ओमप', 'ओमव', 'ओमस', 'ओर', 'ओल', 'ओव', 'ओवर', 'ओस', 'ओह', 'ओढ़', 'ओढ़कर', 'औक', 'औच', 'औचक', 'औज', 'औद', 'औन', 'औपच', 'औपन', 'और', 'औरअभ', 'औरत', 'औरव', 'औऱ', 'औषध', 'औसत', 'औसतन', 'कअप', 'कआउट', 'कआऊट', 'कइय', 'कई', 'कओ', 'कक', 'ककथ', 'ककर', 'कग', 'कच', 'कचर', 'कचहर', 'कज', 'कझ', 'कट', 'कटआउट', 'कटग', 'कटघर', 'कटत', 'कटन', 'कटब', 'कटम', 'कटव', 'कठ', 'कठघर', 'कठप', 'कड', 'कडक़ड', 'कण', 'कत', 'कतई', 'कतन', 'कतम', 'कतर', 'कतरन', 'कतवर', 'कथ', 'कथन', 'कद', 'कदम', 'कदमत', 'कदर', 'कदल', 'कध', 'कन', 'कनकप', 'कनग', 'कनफ', 'कनवर', 'कप', 'कपट', 'कपड', 'कपड़', 'कफ', 'कफल', 'कब', 'कबड', 'कबलव', 'कभ', 'कभवन', 'कम', 'कमज', 'कमतर', 'कमन', 'कमर', 'कमरत', 'कमल', 'कमलज', 'कमलन', 'कमलप', 'कमसकम', 'कमज़', 'कय', 'कर', 'करक', 'करण', 'करणज', 'करत', 'करद', 'करदय', 'करन', 'करनद', 'करप', 'करब', 'करम', 'करमन', 'करव', 'करवट', 'करश', 'करसकत', 'कल', 'कलई', 'कलक', 'कलकर', 'कलत', 'कलन', 'कलप', 'कलफब', 'कलम', 'कलय', 'कलर', 'कलव', 'कलस', 'कलसर', 'कलह', 'कव', 'कवच', 'कवर', 'कवश', 'कश', 'कशक', 'कष', 'कस', 'कसक', 'कसकर', 'कसत', 'कसन', 'कसभ', 'कसम', 'कसर', 'कसरत', 'कह', 'कहकर', 'कहत', 'कहन', 'कहर', 'कहल', 'कड़', 'कड़व', 'खई', 'खक', 'खकर', 'खग', 'खगड', 'खज', 'खट', 'खटक', 'खटकड़', 'खटखट', 'खटपट', 'खड', 'खढउ', 'खण', 'खत', 'खतर', 'खतरन', 'खद', 'खदबद', 'खन', 'खनन', 'खप', 'खपत', 'खपन', 'खफ', 'खब', 'खबत', 'खबर', 'खबरद', 'खबस', 'खभ', 'खमर', 'खमस', 'खय', 'खर', 'खरण', 'खरत', 'खरन', 'खरपत', 'खरब', 'खल', 'खलन', 'खलबल', 'खलल', 'खव', 'खस', 'खड़', 'खड़ग', 'खड़गप', 'गइय', 'गई', 'गए', 'गक', 'गकर', 'गगन', 'गगनच', 'गगनय', 'गच', 'गज', 'गजट', 'गजब', 'गजर', 'गट', 'गटन', 'गटप', 'गठ', 'गठक', 'गठज', 'गठन', 'गठनकर', 'गठब', 'गठबध', 'गठर', 'गड', 'गडकर', 'गढ', 'गढकर', 'गण', 'गणत', 'गणन', 'गणपत', 'गणम', 'गणस', 'गत', 'गतन', 'गतय', 'गद', 'गदप', 'गदर', 'गन', 'गनक', 'गनब', 'गप', 'गपत', 'गफ', 'गफल', 'गफलत', 'गब', 'गबन', 'गम', 'गमग', 'गमछ', 'गमन', 'गमब', 'गमभ', 'गमल', 'गमव', 'गय', 'गयच', 'गर', 'गरज', 'गरण', 'गरप', 'गरम', 'गल', 'गलक', 'गलत', 'गलतफहम', 'गलन', 'गलप', 'गलपन', 'गलर', 'गलव', 'गव', 'गवत', 'गवर', 'गवस', 'गश', 'गस', 'गह', 'गहन', 'गहम', 'गहर', 'गहल', 'गज़', 'गज़ब', 'गड़', 'गड़गड़', 'गड़त', 'गड़न', 'गड़बड़', 'गढ़', 'गढ़कर', 'गढ़च', 'गढ़न', 'घक', 'घकर', 'घच', 'घट', 'घटक', 'घटकर', 'घटत', 'घटन', 'घटनक', 'घड', 'घण', 'घत', 'घन', 'घनश', 'घपल', 'घबर', 'घम', 'घमण', 'घर', 'घरव', 'घल', 'घलन', 'घव', 'घस', 'घड़', 'चक', 'चकत', 'चकन', 'चकम', 'चकमक', 'चकर', 'चकरघ', 'चख', 'चग', 'चच', 'चजन', 'चट', 'चटक', 'चटख', 'चटन', 'चटर', 'चड', 'चढ', 'चढकर', 'चण', 'चत', 'चतत', 'चतम', 'चतर', 'चद', 'चन', 'चनपट', 'चप', 'चपत', 'चम', 'चमक', 'चमकत', 'चमग', 'चमच', 'चमड', 'चमत', 'चमथ', 'चमड़', 'चय', 'चयन', 'चर', 'चरण', 'चरणज', 'चरणबद', 'चरनज', 'चरम', 'चरमप', 'चरमर', 'चरल', 'चरव', 'चरस', 'चल', 'चलक', 'चलकर', 'चलत', 'चलन', 'चलव', 'चव', 'चवड', 'चवर', 'चवसर', 'चवड़', 'चश', 'चस', 'चह', 'चहत', 'चहल', 'चड़', 'चढ़', 'चढ़न', 'छक', 'छग', 'छगन', 'छज', 'छटपट', 'छठ', 'छठव', 'छड', 'छण', 'छत', 'छतर', 'छतरप', 'छद', 'छन', 'छप', 'छपट', 'छपत', 'छपन', 'छपर', 'छपव', 'छम', 'छमत', 'छर', 'छल', 'छलक', 'छलकत', 'छलकन', 'छलग', 'छलछल', 'छलन', 'छलप', 'छलबल', 'छव', 'छह', 'छड़', 'छड़त', 'जक', 'जकड', 'जकत', 'जकतत', 'जकर', 'जकड़', 'जकड़न', 'जख', 'जग', 'जगज', 'जगत', 'जगतप', 'जगद', 'जगदग', 'जगदलप', 'जगन', 'जगनम', 'जगप', 'जगब', 'जगम', 'जगमग', 'जगर', 'जगस', 'जगह', 'जघ', 'जघन', 'जज', 'जजप', 'जट', 'जटप', 'जठ', 'जड', 'जत', 'जतन', 'जथ', 'जद', 'जदएस', 'जदय', 'जध', 'जधर', 'जन', 'जनक', 'जनकप', 'जनकल', 'जनगणन', 'जनज', 'जनत', 'जनतक', 'जनधन', 'जनन', 'जनप', 'जनपथ', 'जनपद', 'जनपदव', 'जनभ', 'जनभर', 'जनम', 'जनमत', 'जनय', 'जनर', 'जनरल', 'जनल', 'जनव', 'जनवर', 'जनशक', 'जनस', 'जनसभ', 'जनसम', 'जनसमर', 'जनह', 'जप', 'जपट', 'जपत', 'जपथ', 'जपन', 'जपरस', 'जफ', 'जफरप', 'जब', 'जबक', 'जबतक', 'जबब', 'जबर', 'जबरदस', 'जबरन', 'जबल', 'जबलप', 'जबस', 'जबड़', 'जभ', 'जभर', 'जभवन', 'जम', 'जमकर', 'जमघट', 'जमत', 'जमप', 'जमर', 'जय', 'जयक', 'जयच', 'जयदत', 'जयन', 'जयनगर', 'जयप', 'जयभ', 'जयर', 'जयलल', 'जयवर', 'जयश', 'जयस', 'जयसभ', 'जयसव', 'जर', 'जरत', 'जरन', 'जरव', 'जल', 'जलत', 'जलन', 'जलप', 'जलर', 'जलव', 'जलशक', 'जलस', 'जलह', 'जव', 'जवर', 'जवल', 'जश', 'जशप', 'जस', 'जसम', 'जसल', 'जसव', 'जह', 'जहद', 'जहन', 'जहर', 'जज़', 'जड़', 'झकझ', 'झकर', 'झगड', 'झगड़', 'झज', 'झजनव', 'झट', 'झटक', 'झटपट', 'झड', 'झत', 'झन', 'झब', 'झम', 'झर', 'झरत', 'झल', 'झलक', 'झलकत', 'झस', 'झड़', 'झड़प', 'ञत', 'ञप', 'ञव', 'टñ', 'टñध', 'टñपत', 'टअट', 'टअन', 'टअप', 'टइ', 'टक', 'टकटव', 'टकप', 'टकर', 'टचर', 'टट', 'टड', 'टणकर', 'टत', 'टतम', 'टन', 'टनआध', 'टनम', 'टनर', 'टनरश', 'टप', 'टपक', 'टपन', 'टपरस', 'टपल', 'टफ', 'टब', 'टबल', 'टभ', 'टम', 'टमइसस', 'टमल', 'टय', 'टर', 'टरगर', 'टरज', 'टरट', 'टरत', 'टरन', 'टरप', 'टरम', 'टरव', 'टरस', 'टल', 'टलन', 'टलर', 'टलरश', 'टव', 'टवर', 'टस', 'टसअप', 'टह', 'टहन', 'टफ़', 'ठक', 'ठकत', 'ठकर', 'ठग', 'ठगन', 'ठत', 'ठतम', 'ठन', 'ठनक', 'ठप', 'ठभ', 'ठम', 'ठल', 'ठस', 'ठसक', 'ठहर', 'ठहरकर', 'ठहरन', 'ड19', 'डअल', 'डक', 'डकत', 'डकर', 'डकरनगर', 'डकरव', 'डग', 'डगमग', 'डगर', 'डगलस', 'डट', 'डटकर', 'डडल', 'डण', 'डत', 'डद', 'डन', 'डऩ', 'डप', 'डपम', 'डफल', 'डब', 'डबल', 'डबव', 'डम', 'डमड', 'डय', 'डयन', 'डर', 'डरकर', 'डरत', 'डरन', 'डरप', 'डरश', 'डरसन', 'डल', 'डलव', 'डव', 'डवकर', 'डस', 'डह', 'डहर', 'डक़र', 'ढक', 'ढकन', 'ढकर', 'ढन', 'ढल', 'ढलकर', 'ढवण', 'ढस', 'ढह', 'ढहत', 'ढहन', 'णक', 'णकर', 'णकल', 'णग', 'णज', 'णत', 'णतत', 'णतय', 'णध', 'णन', 'णनन', 'णप', 'णपत', 'णब', 'णम', 'णय', 'णयक', 'णल', 'णव', 'णवत', 'णस', 'णहत', 'तइ', 'तक', 'तकआजतक', 'तकइस', 'तकक', 'तकत', 'तकद', 'तकन', 'तकर', 'तकरनद', 'तकल', 'तकलह', 'तख', 'तखत', 'तग', 'तगड', 'तगड़', 'तघ', 'तच', 'तचर', 'तज', 'तजब', 'तट', 'तटब', 'तटस', 'तत', 'तथ', 'तद', 'तध', 'तन', 'तनक', 'तनख', 'तनप', 'तप', 'तपकर', 'तपत', 'तपस', 'तफ', 'तफत', 'तफर', 'तब', 'तबक', 'तबतक', 'तबर', 'तबल', 'तबस', 'तभ', 'तभर', 'तम', 'तमई', 'तमकर', 'तमग', 'तमतम', 'तमन', 'तमब', 'तय', 'तर', 'तरक', 'तरघ', 'तरज', 'तरण', 'तरणत', 'तरत', 'तरद', 'तरन', 'तरनत', 'तरप', 'तरफ', 'तरब', 'तरम', 'तरर', 'तरल', 'तरस', 'तरह', 'तरहस', 'तरफ़', 'तल', 'तलत', 'तलपड़', 'तलब', 'तलव', 'तलहट', 'तव', 'तवज', 'तवन', 'तवह', 'तश', 'तशन', 'तस', 'तसर', 'तसल', 'तसह', 'तह', 'तहज', 'तहत', 'तहफ', 'तहर', 'तहस', 'तज़', 'तड़क', 'तड़प', 'थक', 'थकत', 'थकन', 'थग', 'थगन', 'थड', 'थत', 'थन', 'थनउच', 'थनक', 'थनबर', 'थप', 'थपथप', 'थपरक', 'थम', 'थमत', 'थमन', 'थय', 'थर', 'थरब', 'थरस', 'थल', 'थलग', 'थलन', 'थव', 'थश', 'थस', 'थहम', 'थड़', 'दÿत', 'दअत', 'दअन', 'दक', 'दकत', 'दकन', 'दकर', 'दख', 'दखल', 'दग', 'दगरज', 'दण', 'दत', 'दतग', 'दतन', 'दतप', 'दतर', 'दद', 'दन', 'दनकर', 'दनप', 'दनर', 'दनव', 'दनश', 'दनह', 'दप', 'दफ', 'दफन', 'दब', 'दबदब', 'दबन', 'दभ', 'दम', 'दमक', 'दमकत', 'दमघ', 'दमद', 'दमदम', 'दमन', 'दमनक', 'दमप', 'दय', 'दयन', 'दयव', 'दयसम', 'दर', 'दरअसल', 'दरक', 'दरख', 'दरग', 'दरत', 'दरप', 'दरब', 'दरबम', 'दरभ', 'दरम', 'दरल', 'दरव', 'दरसअल', 'दरसल', 'दल', 'दलगत', 'दलदल', 'दलब', 'दलबदल', 'दलहन', 'दव', 'दवन', 'दश', 'दशक', 'दशन', 'दशम', 'दशहर', 'दस', 'दसव', 'दह', 'दहन', 'दहल', 'दहव', 'दहशत', 'दड़', 'दफ़', 'धउत', 'धऊ', 'धक', 'धकर', 'धकल', 'धघ', 'धज', 'धड', 'धत', 'धतत', 'धन', 'धनक', 'धनखड़', 'धनगर', 'धनब', 'धनबल', 'धनर', 'धनव', 'धनश', 'धप', 'धपटन', 'धम', 'धमक', 'धमतर', 'धय', 'धर', 'धरकर', 'धरण', 'धरत', 'धरन', 'धरपकड़', 'धरम', 'धरमल', 'धल', 'धलक', 'धव', 'धवत', 'धवप', 'धवर', 'धवल', 'धश', 'धस', 'धसत', 'धड़', 'नआ', 'नआप', 'नई', 'नईम', 'नए', 'नक', 'नकचढ़', 'नकद', 'नकर', 'नकल', 'नकव', 'नकसर', 'नख', 'नग', 'नगण', 'नगन', 'नगम', 'नगर', 'नगरप', 'नगरस', 'नङ', 'नच', 'नचर', 'नछत', 'नज', 'नजद', 'नजनक', 'नजफगढ़', 'नजम', 'नजर', 'नजरअ', 'नजरक', 'नजरब', 'नजरबन', 'नझ', 'नझज', 'नट', 'नड', 'नत', 'नतम', 'नद', 'नदण', 'नदय', 'नदह', 'नन', 'ननक', 'ननह', 'नप', 'नपर', 'नफ', 'नफरत', 'नब', 'नबत', 'नभ', 'नभद', 'नभर', 'नभवन', 'नम', 'नमक', 'नमध', 'नमन', 'नमस', 'नय', 'नयन', 'नयनत', 'नयशक', 'नर', 'नरई', 'नरभक', 'नरम', 'नरर', 'नरल', 'नरव', 'नरवण', 'नरस', 'नरहर', 'नल', 'नलक', 'नव', 'नवउद', 'नवज', 'नवजय', 'नवत', 'नवद', 'नवदर', 'नवन', 'नवप', 'नवभ', 'नवम', 'नवय', 'नवर', 'नवरतन', 'नवल', 'नवलख', 'नवव', 'नवहट', 'नश', 'नष', 'नस', 'नसन', 'नसभ', 'नसम', 'नसर', 'नसह', 'नह', 'नहट', 'नहर', 'नहल', 'नहस', 'नक़ल', 'नज़', 'नज़द', 'नज़र', 'नज़रअ', 'नड़', 'नफ़', 'नफ़रत', 'पए', 'पक', 'पकड', 'पकडऩ', 'पकत', 'पकर', 'पकव', 'पकड़', 'पकड़कर', 'पकड़न', 'पख', 'पखव', 'पग', 'पगड', 'पगल', 'पगह', 'पच', 'पछ', 'पछड', 'पछत', 'पज', 'पट', 'पटक', 'पटकथ', 'पटखन', 'पटत', 'पटन', 'पटपड़ग', 'पटर', 'पटल', 'पटव', 'पटवर', 'पटसन', 'पठ', 'पड', 'पडऩ', 'पडवल', 'पढ', 'पढन', 'पण', 'पणन', 'पत', 'पतकर', 'पतत', 'पतन', 'पतव', 'पथ', 'पथभ', 'पथर', 'पद', 'पदक', 'पदच', 'पदभ', 'पदम', 'पदय', 'पध', 'पन', 'पनई', 'पनड', 'पनप', 'पनपत', 'पप', 'पब', 'पभ', 'पम', 'पमत', 'पय', 'पयर', 'पर', 'परख', 'परखकर', 'परखन', 'परगन', 'परचम', 'परत', 'परद', 'परन', 'परफ', 'परब', 'परभ', 'परम', 'परमब', 'परमस', 'परमह', 'परलक', 'परव', 'परवर', 'परवल', 'परश', 'परस', 'परह', 'पल', 'पलक', 'पलट', 'पलटकर', 'पलटन', 'पलटव', 'पलत', 'पलन', 'पलपड़', 'पलभर', 'पलय', 'पलवल', 'पलस', 'पलड़', 'पव', 'पवन', 'पवर', 'पश', 'पशक', 'पष', 'पस', 'पसन', 'पसर', 'पसरन', 'पसह', 'पह', 'पहच', 'पहड', 'पहन', 'पहनकर', 'पहनत', 'पहनन', 'पहर', 'पहल', 'पहलआ', 'पहलकदम', 'पहलव', 'पड़', 'पड़त', 'पड़न', 'पड़पट', 'पढ़', 'पढ़कर', 'पढ़त', 'पढ़न', 'फआ', 'फक', 'फग', 'फगव', 'फज', 'फट', 'फटक', 'फटकर', 'फटत', 'फटन', 'फड', 'फडणव', 'फण', 'फणस', 'फत', 'फतव', 'फतह', 'फन', 'फर', 'फरनगर', 'फरप', 'फरम', 'फरवर', 'फरह', 'फल', 'फलक', 'फलत', 'फलन', 'फलस', 'फलसफ', 'फव', 'फस', 'फसल', 'फहम', 'फहर', 'फड़', 'बई', 'बईकर', 'बक', 'बकत', 'बकम', 'बकर', 'बकव', 'बख', 'बग', 'बगत', 'बगद', 'बगल', 'बगलव', 'बघ', 'बङ', 'बच', 'बचत', 'बचन', 'बचपन', 'बचल', 'बछड', 'बछव', 'बछड़', 'बज', 'बजकर', 'बजघ', 'बजट', 'बजत', 'बजन', 'बजबज', 'बजर', 'बट', 'बटन', 'बटव', 'बठ', 'बड', 'बढ', 'बढऩ', 'बत', 'बतप', 'बतल', 'बद', 'बदइ', 'बदज', 'बदतम', 'बदतर', 'बदन', 'बदनस', 'बदम', 'बदरप', 'बदल', 'बदलकर', 'बदलत', 'बदलन', 'बदस', 'बदसल', 'बदह', 'बदहव', 'बध', 'बधन', 'बन', 'बनक', 'बनकट', 'बनकर', 'बनत', 'बनन', 'बनय', 'बनर', 'बनव', 'बप', 'बफर', 'बब', 'बबल', 'बभ', 'बम', 'बमण', 'बमवर', 'बय', 'बर', 'बरअक', 'बरक', 'बरकर', 'बरख', 'बरगल', 'बरगढ़', 'बरत', 'बरतत', 'बरतन', 'बरद', 'बरन', 'बरनव', 'बरब', 'बरम', 'बरमत', 'बरल', 'बरस', 'बरसट', 'बरह', 'बल', 'बलज', 'बलद', 'बलन', 'बलप', 'बलब', 'बलर', 'बलव', 'बव', 'बशर', 'बशरत', 'बस', 'बसत', 'बसप', 'बसवर', 'बह', 'बहक', 'बहकर', 'बहत', 'बहतर', 'बहन', 'बहनज', 'बहबल', 'बहर', 'बहरह', 'बहल', 'बहस', 'बहसकर', 'बहसब', 'बड़', 'बड़क', 'बड़त', 'बड़ब', 'बड़हर', 'बढ़', 'बढ़ई', 'बढ़कर', 'बढ़त', 'बढ़न', 'बढ़व', 'भई', 'भक', 'भकरण', 'भग', 'भगत', 'भगदड', 'भगदड़', 'भगव', 'भच', 'भट', 'भटक', 'भटकन', 'भठ', 'भड', 'भण', 'भत', 'भद', 'भदगड़', 'भन', 'भनक', 'भप', 'भभक', 'भभककर', 'भम', 'भय', 'भयत', 'भयभ', 'भयम', 'भर', 'भरक', 'भरकम', 'भरकर', 'भरण', 'भरत', 'भरतप', 'भरद', 'भरन', 'भरप', 'भरभर', 'भरम', 'भरव', 'भरवल', 'भल', 'भलत', 'भलन', 'भव', 'भवत', 'भवन', 'भवयह', 'भड़क', 'मअ', 'मई', 'मऊ', 'मक', 'मकड', 'मकत', 'मकब', 'मकर', 'मकव', 'मकस', 'मकसद', 'मकड़ज', 'मख', 'मग', 'मगर', 'मघ', 'मङ', 'मच', 'मचत', 'मचन', 'मचर', 'मचल', 'मछ', 'मछल', 'मज', 'मजद', 'मजन', 'मजब', 'मजम', 'मजल', 'मजहब', 'मजहबद', 'मझ', 'मझध', 'मट', 'मटत', 'मटर', 'मठ', 'मड', 'मडक', 'मडग', 'मडल', 'मढ', 'मण', 'मणव', 'मत', 'मतगणन', 'मतद', 'मतभ', 'मतलब', 'मतव', 'मथ', 'मथई', 'मथन', 'मद', 'मदग', 'मदद', 'मददअन', 'मददक', 'मददग', 'मदन', 'मदप', 'मदभ', 'मदमत', 'मदरस', 'मदल', 'मध', 'मधन', 'मन', 'मनग', 'मनगढ', 'मनगर', 'मनगरम', 'मनगढ़', 'मनच', 'मनज', 'मनद', 'मनन', 'मनप', 'मनब', 'मनम', 'मनमर', 'मनय', 'मनर', 'मनव', 'मनवम', 'मनस', 'मनह', 'मप', 'मब', 'मबत', 'मबदन', 'मभ', 'मभवन', 'मम', 'ममत', 'मय', 'मयप', 'मर', 'मरक', 'मरकज', 'मरकज़', 'मरज', 'मरण', 'मरत', 'मरन', 'मरम', 'मरयम', 'मरव', 'मरस', 'मरहम', 'मल', 'मलखन', 'मलग', 'मलत', 'मलदह', 'मलय', 'मलल', 'मव', 'मवर', 'मश', 'मशक', 'मशत', 'मशह', 'मस', 'मसक', 'मसखर', 'मसम', 'मसमर', 'मसर', 'मसरख', 'मसल', 'मसलन', 'मसव', 'मह', 'महक', 'महकम', 'महज', 'महत', 'महब', 'महम', 'महर', 'महल', 'महस', 'मक़ब', 'मज़', 'मज़द', 'मज़ब', 'मढ़', 'मढ़न', 'म६ल', 'यक', 'यकगण', 'यकत', 'यकथ', 'यकर', 'यकरण', 'यकल', 'यकव', 'यग', 'यगढ', 'यगप', 'यगढ़', 'यच', 'यचक', 'यज', 'यजनक', 'यजल', 'यट', 'यटक', 'यटन', 'यड', 'यडस', 'यण', 'यत', 'यतन', 'यतम', 'यथ', 'यथसम', 'यद', 'यध', 'यन', 'यनह', 'यप', 'यपद', 'यपर', 'यपरकत', 'यफल', 'यब', 'यबर', 'यबल', 'यबह', 'यभ', 'यभट', 'यभर', 'यभवन', 'यम', 'यमऔर', 'यमन', 'यमभ', 'यमय', 'यमव', 'यमवर', 'यय', 'ययत', 'ययन', 'ययनरत', 'यर', 'यरत', 'यरध', 'यरन', 'यरपर', 'यरब', 'यरम', 'यरल', 'यरवड', 'यरस', 'यरह', 'यल', 'यलग', 'यलज', 'यलट', 'यलय', 'यलह', 'यव', 'यवत', 'यवध', 'यवर', 'यवश', 'यवस', 'यवह', 'यश', 'यशप', 'यशव', 'यस', 'यसभ', 'यसम', 'यसव', 'यह', 'यज़', 'र0', 'र52', 'रâ', 'रअ', 'रअत', 'रअहमदप', 'रआत', 'रइस', 'रई', 'रईग', 'रएक', 'रक', 'रकआन', 'रकट', 'रकत', 'रकब', 'रकम', 'रकर', 'रकरण', 'रकल', 'रख', 'रखकर', 'रखण', 'रखत', 'रखन', 'रखप', 'रखर', 'रखरख', 'रखरत', 'रखव', 'रग', 'रगट', 'रगढ', 'रगत', 'रगर', 'रगल', 'रगड़', 'रगड़त', 'रगढ़', 'रघ', 'रघब', 'रच', 'रचत', 'रचन', 'रचल', 'रचलन', 'रछ', 'रज', 'रजक', 'रजत', 'रजन', 'रजनन', 'रजप', 'रजमल', 'रजर', 'रट', 'रटर', 'रठ', 'रड', 'रण', 'रणक', 'रणछ', 'रणज', 'रणद', 'रणन', 'रणब', 'रणय', 'रणव', 'रणवश', 'रणह', 'रत', 'रतइस', 'रतत', 'रतम', 'रतमन', 'रतरत', 'रतलब', 'रतव', 'रतवर', 'रथ', 'रथम', 'रथमद', 'रथल', 'रद', 'रदत', 'रदर', 'रध', 'रधन', 'रधर', 'रन', 'रनप', 'रनव', 'रप', 'रपत', 'रपर', 'रपरक', 'रफ', 'रफत', 'रब', 'रबदल', 'रबन', 'रबर', 'रबल', 'रबलस', 'रभ', 'रभक', 'रम', 'रमक', 'रमज', 'रमण', 'रमणक', 'रमन', 'रमबद', 'रमय', 'रमव', 'रमश', 'रमशक', 'रय', 'रयत', 'रयह', 'रर', 'रल', 'रलद', 'रलय', 'रलस', 'रव', 'रवक', 'रवचन', 'रवण', 'रवप', 'रवमय', 'रवर', 'रवश', 'रश', 'रशक', 'रशर', 'रशस', 'रष', 'रस', 'रसत', 'रसद', 'रसन', 'रसप', 'रसम', 'रसर', 'रसव', 'रह', 'रहकर', 'रहण', 'रहत', 'रहन', 'रहबर', 'रहम', 'रहर', 'रहरण', 'रहल', 'रहव', 'रहस', 'रज़', 'रढ़', 'रफ़', 'लअव', 'लआउट', 'लइस', 'लईस', 'लए', 'लऔर', 'लक', 'लकड', 'लकदक', 'लकम', 'लकर', 'लकव', 'लख', 'लखण', 'लखत', 'लखनऊ', 'लखम', 'लखव', 'लग', 'लगढ', 'लगत', 'लगन', 'लगभग', 'लगव', 'लघ', 'लघर', 'लङ', 'लच', 'लचस', 'लज', 'लजय', 'लझ', 'लझन', 'लट', 'लटक', 'लटन', 'लठ', 'लड', 'लढ', 'लत', 'लतन', 'लतफ', 'लद', 'लदत', 'लदन', 'लदस', 'लदह', 'लध', 'लन', 'लनक', 'लनकर', 'लनत', 'लनभ', 'लनरत', 'लनवह', 'लप', 'लपक', 'लपकत', 'लपत', 'लफ', 'लब', 'लबह', 'लभ', 'लभर', 'लम', 'लमख', 'लय', 'लयन', 'लयम', 'लर', 'लरतन', 'लरव', 'लरश', 'लल', 'ललई', 'ललक', 'ललट', 'लव', 'लवक', 'लवन', 'लवप', 'लश', 'लस', 'लसक', 'लसच', 'लसन', 'लह', 'लहठ', 'लहन', 'लहर', 'लहल', 'लहलह', 'लहव', 'लहस', 'लड़', 'लड़क', 'लड़त', 'लड़न', 'लड़ब', 'वऔर', 'वक', 'वकर', 'वग', 'वगन', 'वच', 'वचन', 'वचनबद', 'वछ', 'वछत', 'वज', 'वजन', 'वजय', 'वजह', 'वजहस', 'वट', 'वटत', 'वटर', 'वटल', 'वठ', 'वड', 'वण', 'वत', 'वतन', 'वतनपरस', 'वतम', 'वतर', 'वतरण', 'वथ', 'वद', 'वदय', 'वदर', 'वदल', 'वदश', 'वध', 'वधन', 'वधर', 'वन', 'वनक', 'वनध', 'वनभर', 'वनर', 'वनरक', 'वनव', 'वनश', 'वनस', 'वप', 'वपक', 'वफ', 'वब', 'वभ', 'वम', 'वमत', 'वमय', 'वमसल', 'वय', 'वयक', 'वयन', 'वयम', 'वयस', 'वर', 'वरक', 'वरकर', 'वरच', 'वरण', 'वरद', 'वरदर', 'वरन', 'वरप', 'वरफ', 'वरम', 'वरमल', 'वरल', 'वरवर', 'वरशरण', 'वरस', 'वल', 'वलत', 'वलपम', 'वलपर', 'वलस', 'वव', 'ववत', 'ववर', 'वश', 'वशत', 'वशन', 'वष', 'वस', 'वसई', 'वसन', 'वसम', 'वह', 'वहन', 'वक़', 'वज़न', 'वड़', 'शअध', 'शओ', 'शक', 'शकर', 'शकश', 'शख', 'शखबर', 'शग', 'शघ', 'शज', 'शट', 'शटर', 'शत', 'शद', 'शन', 'शनइस', 'शनक', 'शनग', 'शनप', 'शनभ', 'शनर', 'शनल', 'शनश', 'शनस', 'शऩ', 'शप', 'शपथ', 'शपथग', 'शपर', 'शब', 'शबनम', 'शबर', 'शभ', 'शभक', 'शभर', 'शम', 'शमन', 'शमश', 'शय', 'शर', 'शरज', 'शरण', 'शरणज', 'शरणस', 'शरद', 'शरदक', 'शरम', 'शल', 'शलत', 'शव', 'शश', 'शस', 'शह', 'शहज', 'शहद', 'शहर', 'शहरप', 'शहज़', 'शख़', 'षक', 'षकर', 'षग', 'षच', 'षज', 'षजनक', 'षठड', 'षड', 'षडय', 'षण', 'षणक', 'षणभर', 'षणम', 'षणव', 'षत', 'षद', 'षदर', 'षध', 'षधर', 'षधरत', 'षन', 'षप', 'षब', 'षम', 'षमत', 'षय', 'षयक', 'षर', 'षरत', 'षरदर', 'षरध', 'षव', 'षवर', 'षश', 'षस', 'सÿरक', 'सअप', 'सइन', 'सईद', 'सऊद', 'सएक', 'सएप', 'सऐप', 'सक', 'सकत', 'सकन', 'सकप', 'सकर', 'सकल', 'सख', 'सग', 'सगढ', 'सगण', 'सगढ़', 'सघ', 'सघन', 'सच', 'सचख', 'सचद', 'सचम', 'सज', 'सजग', 'सजगत', 'सट', 'सटक', 'सटन', 'सड', 'सडक', 'सडक़', 'सत', 'सतत', 'सतद', 'सतन', 'सतब', 'सतर', 'सतलज', 'सतह', 'सथ', 'सद', 'सदगण', 'सदन', 'सदभ', 'सदम', 'सदर', 'सदस', 'सदहद', 'सध', 'सधन', 'सन', 'सनई', 'सनक', 'सनगर', 'सनद', 'सनल', 'सनस', 'सनसन', 'सनह', 'सप', 'सपत', 'सपन', 'सपर', 'सपरक', 'सफ', 'सफदरज', 'सफब', 'सफर', 'सफल', 'सफलत', 'सब', 'सबक', 'सबन', 'सबम', 'सबर', 'सबल', 'सबस', 'सभ', 'सम', 'समक', 'समकक', 'समग', 'समझ', 'समझकर', 'समझत', 'समझद', 'समझन', 'समत', 'समतल', 'समध', 'समन', 'समय', 'समयक', 'समयप', 'समयबद', 'समयस', 'समर', 'समरज', 'समरस', 'समरसत', 'समल', 'समव', 'समवर', 'समष', 'समस', 'सय', 'सर', 'सरक', 'सरकन', 'सरकर', 'सरग', 'सरगन', 'सरगर', 'सरजम', 'सरण', 'सरत', 'सरद', 'सरन', 'सरप', 'सरपरस', 'सरब', 'सरबज', 'सरय', 'सरर', 'सरल', 'सरलत', 'सरस', 'सरसर', 'सरह', 'सरहद', 'सल', 'सलकर', 'सलखनऊ', 'सलग', 'सलट', 'सलत', 'सलन', 'सलफ', 'सलब', 'सलम', 'सलव', 'सव', 'सवर', 'सश', 'सशक', 'सशर', 'सशस', 'सस', 'ससन', 'ससम', 'सह', 'सहआर', 'सहक', 'सहगल', 'सहज', 'सहजत', 'सहत', 'सहन', 'सहनश', 'सहभ', 'सहम', 'सहमत', 'सहय', 'सहर', 'सहरस', 'सहल', 'सहस', 'सहड़', 'सख़', 'सज़', 'सड़', 'सड़क', 'सफ़', 'सफ़र', 'सफ़ल', 'सफ़लत', 'ह65', 'हए', 'हक', 'हकद', 'हकम', 'हकर', 'हग', 'हगढ', 'हज', 'हजनक', 'हजम', 'हजरत', 'हजह', 'हट', 'हटकर', 'हटत', 'हटन', 'हटव', 'हठ', 'हठधर', 'हड', 'हण', 'हत', 'हतक', 'हतग', 'हतर', 'हतरम', 'हथ', 'हथक', 'हथकरघ', 'हथकड़', 'हथग', 'हद', 'हदत', 'हदर', 'हन', 'हनगर', 'हनत', 'हनतकश', 'हनन', 'हनफ', 'हनम', 'हनर', 'हनल', 'हनव', 'हनस', 'हप', 'हफ', 'हब', 'हभ', 'हभर', 'हम', 'हमक', 'हमद', 'हमदर', 'हमन', 'हमम', 'हमल', 'हमस', 'हय', 'हर', 'हरक', 'हरकत', 'हरग', 'हरचन', 'हरज', 'हरण', 'हरद', 'हरदम', 'हरन', 'हरप', 'हरब', 'हरम', 'हरल', 'हरव', 'हरस', 'हरसवर', 'हरह', 'हरहम', 'हरक़त', 'हल', 'हलक', 'हलचल', 'हलत', 'हलफन', 'हलव', 'हव', 'हवन', 'हवर', 'हवस', 'हश', 'हष', 'हस', 'हसद', 'हसन', 'हसनप', 'हसम', 'हसरत', 'हक़', 'हक़द', 'हज़', 'हज़म', 'हड़', 'हड़क', 'हड़त', 'हड़प', 'हड़पन', 'हड़ब', 'हड़बड़', 'हफ़', 'क़त', 'क़तवर', 'क़दम', 'क़र', 'क़व', 'क़स', 'ख़त', 'ख़बर', 'ख़र', 'ग़र', 'ग़ल', 'ग़लत', 'ग़लतफहम', 'ज़ग', 'ज़त', 'ज़द', 'ज़न', 'ज़बरदस', 'ज़म', 'ज़मर', 'ज़र', 'ज़रत', 'ज़व', 'ज़हन', 'ड़क', 'ड़कथ', 'ड़कन', 'ड़कर', 'ड़ख', 'ड़ग', 'ड़त', 'ड़द', 'ड़न', 'ड़पत', 'ड़फ', 'ड़भ', 'ड़व', 'ड़सव', 'ढ़ग', 'ढ़त', 'ढ़न', 'ढ़नप', 'फ़र', 'फ़रवर', 'फ़सल', '०एन०य', '०च', '०सल', '०००', '१ङ', '१०', '१००', '१०७', '११', '११९', '१२', '१२३', '१३', '१४', '१४०', '१४१२', '१४२', '१४४', '१४७', '१४८', '१४९', '१५', '१५०', '१५७६', '१६', '१७', '१७५', '१८', '१८००', '१८३', '१८५', '१८६', '१९', '१९०', '१९४७', '१९६०', '१९६५', '१९७१', '१९७९', '१९८९', '२०', '२००', '२००६', '२०१३', '२०१४', '२०१६', '२०१७', '२०१८', '२०२०', '२१', '२२', '२३', '२४', '२५', '२५०', '२६', '२६५', '२७', '२८', '२८६', '२९', '३स', '३०', '३००', '३०७', '३१', '३२', '३३', '३५', '३५३', '३५७', '३५९', '३८', '३९', '४०', '४००', '४०३', '४१८', '४२', '४२व', '४२४', '४४४', '४५', '४६', '४७', '४८', '४८०', '५०', '५००', '५०६', '५२७', '५५०', '५७', '५७४', '५८', '५९', '६०', '६१३९८', '६१४ज', '६२', '६३', '६६४', '६७', '७०', '७२', '७३', '७४८', '७५', '७६', '७८', '८०', '८१४', '८४३', '८७', '९००', '९०२', '९२१', '९४१', '९८', '९८०', '९८२']\n"
          ]
        },
        {
          "output_type": "stream",
          "name": "stderr",
          "text": [
            "/usr/local/lib/python3.7/dist-packages/sklearn/utils/deprecation.py:87: FutureWarning: Function get_feature_names is deprecated; get_feature_names is deprecated in 1.0 and will be removed in 1.2. Please use get_feature_names_out instead.\n",
            "  warnings.warn(msg, category=FutureWarning)\n"
          ]
        }
      ]
    },
    {
      "cell_type": "code",
      "metadata": {
        "id": "TLphH036EjL6",
        "colab": {
          "base_uri": "https://localhost:8080/"
        },
        "outputId": "d1e99b65-0d2c-47db-90e0-44c60ab7c52f"
      },
      "source": [
        "X_test"
      ],
      "execution_count": 12,
      "outputs": [
        {
          "output_type": "execute_result",
          "data": {
            "text/plain": [
              "array([[0, 0, 0, ..., 0, 0, 0],\n",
              "       [0, 0, 0, ..., 0, 0, 0],\n",
              "       [0, 0, 0, ..., 0, 0, 0],\n",
              "       ...,\n",
              "       [0, 0, 0, ..., 0, 0, 0],\n",
              "       [0, 0, 0, ..., 0, 0, 0],\n",
              "       [0, 0, 0, ..., 0, 0, 0]])"
            ]
          },
          "metadata": {},
          "execution_count": 12
        }
      ]
    },
    {
      "cell_type": "markdown",
      "metadata": {
        "id": "9HB8vCw3Eqtg"
      },
      "source": [
        "**Training & Testing**\\\n",
        "**Logistic_Regression**"
      ]
    },
    {
      "cell_type": "code",
      "metadata": {
        "id": "97JB0feF0bds"
      },
      "source": [
        "from sklearn.linear_model import LogisticRegression\n",
        "logmodel = LogisticRegression()"
      ],
      "execution_count": 13,
      "outputs": []
    },
    {
      "cell_type": "code",
      "metadata": {
        "id": "orFOWvI7FC-w"
      },
      "source": [
        "logmodel = logmodel.fit(X_train, y_train)"
      ],
      "execution_count": 14,
      "outputs": []
    },
    {
      "cell_type": "code",
      "source": [
        "logmodel.predict(X_test)"
      ],
      "metadata": {
        "colab": {
          "base_uri": "https://localhost:8080/"
        },
        "id": "kPbnexfA4EEn",
        "outputId": "e4577194-3a35-4a04-9f12-f45f1f6a1f70"
      },
      "execution_count": 15,
      "outputs": [
        {
          "output_type": "execute_result",
          "data": {
            "text/plain": [
              "array([0, 0, 0, ..., 0, 0, 0])"
            ]
          },
          "metadata": {},
          "execution_count": 15
        }
      ]
    },
    {
      "cell_type": "code",
      "metadata": {
        "id": "T0lVCyjTF8KA"
      },
      "source": [
        "from sklearn.metrics import classification_report"
      ],
      "execution_count": 16,
      "outputs": []
    },
    {
      "cell_type": "code",
      "metadata": {
        "id": "0mf4HCJqF_WL"
      },
      "source": [
        "predictions = logmodel.predict(X_test)"
      ],
      "execution_count": 17,
      "outputs": []
    },
    {
      "cell_type": "code",
      "metadata": {
        "id": "GzeC8jsbGC0k",
        "colab": {
          "base_uri": "https://localhost:8080/",
          "height": 70
        },
        "outputId": "772c5ca4-0dfb-40d2-ba6d-8a398a77fa84"
      },
      "source": [
        "classification_report(y_test,predictions)"
      ],
      "execution_count": 18,
      "outputs": [
        {
          "output_type": "execute_result",
          "data": {
            "text/plain": [
              "'              precision    recall  f1-score   support\\n\\n           0       0.92      0.99      0.96      4116\\n           1       0.51      0.09      0.15       371\\n\\n    accuracy                           0.92      4487\\n   macro avg       0.72      0.54      0.55      4487\\nweighted avg       0.89      0.92      0.89      4487\\n'"
            ],
            "application/vnd.google.colaboratory.intrinsic+json": {
              "type": "string"
            }
          },
          "metadata": {},
          "execution_count": 18
        }
      ]
    },
    {
      "cell_type": "code",
      "source": [
        "print(classification_report(y_test,predictions))"
      ],
      "metadata": {
        "colab": {
          "base_uri": "https://localhost:8080/"
        },
        "id": "1QVc4uv0p47V",
        "outputId": "bc9637c1-40d0-477a-8729-47e2ea04be1a"
      },
      "execution_count": 19,
      "outputs": [
        {
          "output_type": "stream",
          "name": "stdout",
          "text": [
            "              precision    recall  f1-score   support\n",
            "\n",
            "           0       0.92      0.99      0.96      4116\n",
            "           1       0.51      0.09      0.15       371\n",
            "\n",
            "    accuracy                           0.92      4487\n",
            "   macro avg       0.72      0.54      0.55      4487\n",
            "weighted avg       0.89      0.92      0.89      4487\n",
            "\n"
          ]
        }
      ]
    },
    {
      "cell_type": "code",
      "metadata": {
        "id": "V0B6wJZDGXJA"
      },
      "source": [
        "from sklearn.metrics import confusion_matrix"
      ],
      "execution_count": 20,
      "outputs": []
    },
    {
      "cell_type": "code",
      "metadata": {
        "id": "zQKofQFQGaem",
        "colab": {
          "base_uri": "https://localhost:8080/"
        },
        "outputId": "1485ce88-a17d-4699-bac0-82216194e0e3"
      },
      "source": [
        "cm =confusion_matrix(y_test,predictions)\n",
        "cm"
      ],
      "execution_count": 21,
      "outputs": [
        {
          "output_type": "execute_result",
          "data": {
            "text/plain": [
              "array([[4085,   31],\n",
              "       [ 339,   32]])"
            ]
          },
          "metadata": {},
          "execution_count": 21
        }
      ]
    },
    {
      "cell_type": "code",
      "source": [
        "from matplotlib import pyplot as plt\n",
        "import seaborn as sn\n",
        "sn.heatmap(cm, annot=True, fmt='d')\n",
        "plt.xlabel('Predicted')\n",
        "plt.ylabel('Truth')"
      ],
      "metadata": {
        "id": "HBY7eP7npt78",
        "colab": {
          "base_uri": "https://localhost:8080/",
          "height": 297
        },
        "outputId": "fc58547f-8beb-4e11-a341-06a829a0c1fb"
      },
      "execution_count": 22,
      "outputs": [
        {
          "output_type": "execute_result",
          "data": {
            "text/plain": [
              "Text(33.0, 0.5, 'Truth')"
            ]
          },
          "metadata": {},
          "execution_count": 22
        },
        {
          "output_type": "display_data",
          "data": {
            "text/plain": [
              "<Figure size 432x288 with 2 Axes>"
            ],
            "image/png": "[encoded data removed]"
          },
          "metadata": {
            "needs_background": "light"
          }
        }
      ]
    },
    {
      "cell_type": "code",
      "metadata": {
        "id": "kvJUILWXGnY3"
      },
      "source": [
        "from sklearn.metrics import accuracy_score"
      ],
      "execution_count": 23,
      "outputs": []
    },
    {
      "cell_type": "code",
      "metadata": {
        "id": "Q_bu8QoIGs9D",
        "colab": {
          "base_uri": "https://localhost:8080/"
        },
        "outputId": "6d2a931e-c306-461d-89a1-36a2b5ab05e3"
      },
      "source": [
        "accuracy_score(y_test,predictions)"
      ],
      "execution_count": 24,
      "outputs": [
        {
          "output_type": "execute_result",
          "data": {
            "text/plain": [
              "0.9175395587252062"
            ]
          },
          "metadata": {},
          "execution_count": 24
        }
      ]
    }
  ]
}